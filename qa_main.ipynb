{
    "nbformat_minor": 1, 
    "cells": [
        {
            "execution_count": 480, 
            "cell_type": "code", 
            "metadata": {}, 
            "outputs": [], 
            "source": "# The code was removed by Watson Studio for sharing."
        }, 
        {
            "source": "# Quality Assurance Project", 
            "cell_type": "markdown", 
            "metadata": {}
        }, 
        {
            "source": "### Description: This project is to automate the quality assurance process of a file.", 
            "cell_type": "markdown", 
            "metadata": {}
        }, 
        {
            "source": "### QA Goals: Poll any missing data, inaccuracies, and variance counting", 
            "cell_type": "markdown", 
            "metadata": {}
        }, 
        {
            "source": "#### Import all tools required for this project", 
            "cell_type": "markdown", 
            "metadata": {}
        }, 
        {
            "execution_count": 481, 
            "cell_type": "code", 
            "metadata": {}, 
            "outputs": [], 
            "source": "import numpy as np\nimport types\nimport pandas as pd\nfrom botocore.client import Config\nimport ibm_boto3"
        }, 
        {
            "source": "#### Import Excel Sheet as a Dataframe", 
            "cell_type": "markdown", 
            "metadata": {}
        }, 
        {
            "execution_count": 482, 
            "cell_type": "code", 
            "metadata": {}, 
            "outputs": [], 
            "source": "# The code was removed by Watson Studio for sharing."
        }, 
        {
            "source": "#### Clean Dataframe", 
            "cell_type": "markdown", 
            "metadata": {}
        }, 
        {
            "source": "#### Extract column names from dataframe and clean for future use", 
            "cell_type": "markdown", 
            "metadata": {}
        }, 
        {
            "execution_count": 483, 
            "cell_type": "code", 
            "metadata": {}, 
            "outputs": [], 
            "source": "# Declare variables\ni = 0;\ncolumn_Names = [];\n\n# Clean column names so there are no more spaces\nqa_data.columns = qa_data.columns.str.replace(' ', '_')\n\n# Get column names and append in array, column_Names\nfor i in qa_data.columns:\n    column_Names.append(i)\n    \nfor c in column_Names:\n    qa_data[c].fillna(\"BLANK\", inplace = True)"
        }, 
        {
            "source": "#### Initialize empty dataframe for future use", 
            "cell_type": "markdown", 
            "metadata": {}
        }, 
        {
            "execution_count": 484, 
            "cell_type": "code", 
            "metadata": {}, 
            "outputs": [], 
            "source": "extract_data = pd.DataFrame(columns=['Attribute_Name', 'Variance', 'Variance_Count', 'Accounted For'])\ntemp_data = pd.DataFrame(columns=['Attribute_Name', 'Variance', 'Variance_Count', 'Accounted For'])"
        }, 
        {
            "source": "#### Import data to new dataframe with applied quality assurance rules", 
            "cell_type": "markdown", 
            "metadata": {}
        }, 
        {
            "execution_count": 485, 
            "cell_type": "code", 
            "metadata": {}, 
            "outputs": [], 
            "source": "# Loop through quality assurance process into new dataframe\ncolumn_Counter = 0\ninstance_clean = []\nstring = ''\natt_Name = []\ncounter = 0\ncounter2 = 0\naccounted = []\naccounted_str = ''\n\n# Loop through the main dataframe and extract all relevant information for quality assurance validations\nfor columns in column_Names:\n    \n    # Grab the unique variant values and the instances at which each occur\n    unique = qa_data[column_Names[column_Counter]].unique()\n    instances = qa_data[column_Names[column_Counter]].value_counts(dropna=False)\n\n    #Only perform for attributes that don't have many variances\n    if len(unique) < 10:\n        \n        # Order the variance count accordingly\n        for variance in unique:\n            instance_clean.append(instances[variance])\n        \n        # Get column name as first row\n        att_Name.append(columns)\n        \n        # Input blanks in column name as second row\n        while counter < len(unique)-1:\n            counter += 1\n            att_Name.append('')\n            \n        # Check if all data is accounted for\n        if sum(instances) == 7285:\n            accounted_str = 'Yes'\n        else:\n            accounted_str = 'No'\n            \n        while counter2 < len(unique):\n            counter2 += 1\n            accounted.append(accounted_str)\n        \n        #Add data into temporary dataframe\n        temp_data = pd.DataFrame({\n        'Attribute_Name': att_Name,\n        'Variance': unique,\n        'Variance_Count': instance_clean,\n        'Accounted For' : accounted\n        })\n        \n        #Add an empty column to visually differentiate between data columns\n        line = pd.DataFrame({\n        'Attribute_Name': [''],\n        'Variance': [''],\n        'Variance_Count': [''],\n        'Accounted For' : [' ']\n        })\n\n        #Concatenate to main dataframe and reset any variables needed for the next iteration\n        extract_data = pd.concat([extract_data, line])\n        extract_data = pd.concat([extract_data, temp_data])\n        instance_clean = []\n        counter = 0\n        counter2 = 0\n        att_Name = []\n        accounted = []\n    \n    # Counter for the column position we are iterating through\n    column_Counter += 1\n"
        }, 
        {
            "source": "### Final Output", 
            "cell_type": "markdown", 
            "metadata": {}
        }, 
        {
            "execution_count": 486, 
            "cell_type": "code", 
            "metadata": {
                "scrolled": true
            }, 
            "outputs": [
                {
                    "execution_count": 486, 
                    "metadata": {}, 
                    "data": {
                        "text/html": "<div>\n<style scoped>\n    .dataframe tbody tr th:only-of-type {\n        vertical-align: middle;\n    }\n\n    .dataframe tbody tr th {\n        vertical-align: top;\n    }\n\n    .dataframe thead th {\n        text-align: right;\n    }\n</style>\n<table border=\"1\" class=\"dataframe\">\n  <thead>\n    <tr style=\"text-align: right;\">\n      <th></th>\n      <th>Attribute_Name</th>\n      <th>Variance</th>\n      <th>Variance_Count</th>\n      <th>Accounted For</th>\n    </tr>\n  </thead>\n  <tbody>\n    <tr>\n      <th>0</th>\n      <td></td>\n      <td></td>\n      <td></td>\n      <td></td>\n    </tr>\n    <tr>\n      <th>1</th>\n      <td>Application_Lifecycle_State</td>\n      <td>Production</td>\n      <td>3385</td>\n      <td>Yes</td>\n    </tr>\n    <tr>\n      <th>2</th>\n      <td></td>\n      <td>Cancelled</td>\n      <td>1015</td>\n      <td>Yes</td>\n    </tr>\n    <tr>\n      <th>3</th>\n      <td></td>\n      <td>Development</td>\n      <td>446</td>\n      <td>Yes</td>\n    </tr>\n    <tr>\n      <th>4</th>\n      <td></td>\n      <td>Decommissioned</td>\n      <td>539</td>\n      <td>Yes</td>\n    </tr>\n    <tr>\n      <th>5</th>\n      <td></td>\n      <td>Retired</td>\n      <td>1868</td>\n      <td>Yes</td>\n    </tr>\n    <tr>\n      <th>6</th>\n      <td></td>\n      <td>Pending Approval</td>\n      <td>21</td>\n      <td>Yes</td>\n    </tr>\n    <tr>\n      <th>7</th>\n      <td></td>\n      <td>Draft</td>\n      <td>11</td>\n      <td>Yes</td>\n    </tr>\n    <tr>\n      <th>8</th>\n      <td></td>\n      <td></td>\n      <td></td>\n      <td></td>\n    </tr>\n    <tr>\n      <th>9</th>\n      <td>Application_Classification</td>\n      <td>Line of Business</td>\n      <td>5324</td>\n      <td>Yes</td>\n    </tr>\n    <tr>\n      <th>10</th>\n      <td></td>\n      <td>Service</td>\n      <td>970</td>\n      <td>Yes</td>\n    </tr>\n    <tr>\n      <th>11</th>\n      <td></td>\n      <td>Software</td>\n      <td>990</td>\n      <td>Yes</td>\n    </tr>\n    <tr>\n      <th>12</th>\n      <td></td>\n      <td>BLANK</td>\n      <td>1</td>\n      <td>Yes</td>\n    </tr>\n    <tr>\n      <th>13</th>\n      <td></td>\n      <td></td>\n      <td></td>\n      <td></td>\n    </tr>\n    <tr>\n      <th>14</th>\n      <td>Application_Strategy</td>\n      <td>Buy - Investment underway/planned</td>\n      <td>1551</td>\n      <td>Yes</td>\n    </tr>\n    <tr>\n      <th>15</th>\n      <td></td>\n      <td>Sell - Plan in place to eliminate (with dates ...</td>\n      <td>922</td>\n      <td>Yes</td>\n    </tr>\n    <tr>\n      <th>16</th>\n      <td></td>\n      <td>Buy - Achieved target state/operating model</td>\n      <td>1733</td>\n      <td>Yes</td>\n    </tr>\n    <tr>\n      <th>17</th>\n      <td></td>\n      <td>Sell - Plan in place to migrate (with dates &amp; ...</td>\n      <td>534</td>\n      <td>Yes</td>\n    </tr>\n    <tr>\n      <th>18</th>\n      <td></td>\n      <td>BLANK</td>\n      <td>2195</td>\n      <td>Yes</td>\n    </tr>\n    <tr>\n      <th>19</th>\n      <td></td>\n      <td>Sell - no plan in place to migrate or eliminate</td>\n      <td>350</td>\n      <td>Yes</td>\n    </tr>\n    <tr>\n      <th>20</th>\n      <td></td>\n      <td></td>\n      <td></td>\n      <td></td>\n    </tr>\n    <tr>\n      <th>21</th>\n      <td>Approved_Digital_Crown_Jewel</td>\n      <td>BLANK</td>\n      <td>4485</td>\n      <td>Yes</td>\n    </tr>\n    <tr>\n      <th>22</th>\n      <td></td>\n      <td>No</td>\n      <td>2737</td>\n      <td>Yes</td>\n    </tr>\n    <tr>\n      <th>23</th>\n      <td></td>\n      <td>Yes</td>\n      <td>63</td>\n      <td>Yes</td>\n    </tr>\n    <tr>\n      <th>24</th>\n      <td></td>\n      <td></td>\n      <td></td>\n      <td></td>\n    </tr>\n    <tr>\n      <th>25</th>\n      <td>Data_Classification</td>\n      <td>BLANK</td>\n      <td>4356</td>\n      <td>Yes</td>\n    </tr>\n    <tr>\n      <th>26</th>\n      <td></td>\n      <td>Restricted</td>\n      <td>702</td>\n      <td>Yes</td>\n    </tr>\n    <tr>\n      <th>27</th>\n      <td></td>\n      <td>Internal</td>\n      <td>848</td>\n      <td>Yes</td>\n    </tr>\n    <tr>\n      <th>28</th>\n      <td></td>\n      <td>Confidential</td>\n      <td>1193</td>\n      <td>Yes</td>\n    </tr>\n    <tr>\n      <th>29</th>\n      <td></td>\n      <td>Public</td>\n      <td>186</td>\n      <td>Yes</td>\n    </tr>\n    <tr>\n      <th>...</th>\n      <td>...</td>\n      <td>...</td>\n      <td>...</td>\n      <td>...</td>\n    </tr>\n    <tr>\n      <th>69</th>\n      <td></td>\n      <td></td>\n      <td></td>\n      <td></td>\n    </tr>\n    <tr>\n      <th>70</th>\n      <td>Information_Security</td>\n      <td>BLANK</td>\n      <td>3624</td>\n      <td>Yes</td>\n    </tr>\n    <tr>\n      <th>71</th>\n      <td></td>\n      <td>Moderate</td>\n      <td>1465</td>\n      <td>Yes</td>\n    </tr>\n    <tr>\n      <th>72</th>\n      <td></td>\n      <td>Insignificant</td>\n      <td>645</td>\n      <td>Yes</td>\n    </tr>\n    <tr>\n      <th>73</th>\n      <td></td>\n      <td>Major</td>\n      <td>862</td>\n      <td>Yes</td>\n    </tr>\n    <tr>\n      <th>74</th>\n      <td></td>\n      <td>Minor</td>\n      <td>273</td>\n      <td>Yes</td>\n    </tr>\n    <tr>\n      <th>75</th>\n      <td></td>\n      <td>Extensive</td>\n      <td>416</td>\n      <td>Yes</td>\n    </tr>\n    <tr>\n      <th>76</th>\n      <td></td>\n      <td></td>\n      <td></td>\n      <td></td>\n    </tr>\n    <tr>\n      <th>77</th>\n      <td>Privacy</td>\n      <td>BLANK</td>\n      <td>3624</td>\n      <td>Yes</td>\n    </tr>\n    <tr>\n      <th>78</th>\n      <td></td>\n      <td>Extensive</td>\n      <td>693</td>\n      <td>Yes</td>\n    </tr>\n    <tr>\n      <th>79</th>\n      <td></td>\n      <td>Insignificant</td>\n      <td>1315</td>\n      <td>Yes</td>\n    </tr>\n    <tr>\n      <th>80</th>\n      <td></td>\n      <td>Minor</td>\n      <td>515</td>\n      <td>Yes</td>\n    </tr>\n    <tr>\n      <th>81</th>\n      <td></td>\n      <td>Moderate</td>\n      <td>577</td>\n      <td>Yes</td>\n    </tr>\n    <tr>\n      <th>82</th>\n      <td></td>\n      <td>Major</td>\n      <td>561</td>\n      <td>Yes</td>\n    </tr>\n    <tr>\n      <th>83</th>\n      <td></td>\n      <td></td>\n      <td></td>\n      <td></td>\n    </tr>\n    <tr>\n      <th>84</th>\n      <td>Regulatory_Compliance</td>\n      <td>BLANK</td>\n      <td>3624</td>\n      <td>Yes</td>\n    </tr>\n    <tr>\n      <th>85</th>\n      <td></td>\n      <td>Minor</td>\n      <td>1209</td>\n      <td>Yes</td>\n    </tr>\n    <tr>\n      <th>86</th>\n      <td></td>\n      <td>Insignificant</td>\n      <td>1117</td>\n      <td>Yes</td>\n    </tr>\n    <tr>\n      <th>87</th>\n      <td></td>\n      <td>Moderate</td>\n      <td>785</td>\n      <td>Yes</td>\n    </tr>\n    <tr>\n      <th>88</th>\n      <td></td>\n      <td>Extensive</td>\n      <td>157</td>\n      <td>Yes</td>\n    </tr>\n    <tr>\n      <th>89</th>\n      <td></td>\n      <td>Major</td>\n      <td>393</td>\n      <td>Yes</td>\n    </tr>\n    <tr>\n      <th>90</th>\n      <td></td>\n      <td></td>\n      <td></td>\n      <td></td>\n    </tr>\n    <tr>\n      <th>91</th>\n      <td>Number</td>\n      <td>BLANK</td>\n      <td>7285</td>\n      <td>Yes</td>\n    </tr>\n    <tr>\n      <th>92</th>\n      <td></td>\n      <td></td>\n      <td></td>\n      <td></td>\n    </tr>\n    <tr>\n      <th>93</th>\n      <td>Assigned_to</td>\n      <td>BLANK</td>\n      <td>7285</td>\n      <td>Yes</td>\n    </tr>\n    <tr>\n      <th>94</th>\n      <td></td>\n      <td></td>\n      <td></td>\n      <td></td>\n    </tr>\n    <tr>\n      <th>95</th>\n      <td>Assignment_group</td>\n      <td>BLANK</td>\n      <td>7285</td>\n      <td>Yes</td>\n    </tr>\n    <tr>\n      <th>96</th>\n      <td></td>\n      <td></td>\n      <td></td>\n      <td></td>\n    </tr>\n    <tr>\n      <th>97</th>\n      <td>High_Risk</td>\n      <td>Yes</td>\n      <td>3233</td>\n      <td>Yes</td>\n    </tr>\n    <tr>\n      <th>98</th>\n      <td></td>\n      <td>No</td>\n      <td>4052</td>\n      <td>Yes</td>\n    </tr>\n  </tbody>\n</table>\n<p>99 rows \u00d7 4 columns</p>\n</div>", 
                        "text/plain": "                  Attribute_Name  \\\n0                                  \n1    Application_Lifecycle_State   \n2                                  \n3                                  \n4                                  \n5                                  \n6                                  \n7                                  \n8                                  \n9     Application_Classification   \n10                                 \n11                                 \n12                                 \n13                                 \n14          Application_Strategy   \n15                                 \n16                                 \n17                                 \n18                                 \n19                                 \n20                                 \n21  Approved_Digital_Crown_Jewel   \n22                                 \n23                                 \n24                                 \n25           Data_Classification   \n26                                 \n27                                 \n28                                 \n29                                 \n..                           ...   \n69                                 \n70          Information_Security   \n71                                 \n72                                 \n73                                 \n74                                 \n75                                 \n76                                 \n77                       Privacy   \n78                                 \n79                                 \n80                                 \n81                                 \n82                                 \n83                                 \n84         Regulatory_Compliance   \n85                                 \n86                                 \n87                                 \n88                                 \n89                                 \n90                                 \n91                        Number   \n92                                 \n93                   Assigned_to   \n94                                 \n95              Assignment_group   \n96                                 \n97                     High_Risk   \n98                                 \n\n                                             Variance Variance_Count  \\\n0                                                                      \n1                                          Production           3385   \n2                                           Cancelled           1015   \n3                                         Development            446   \n4                                      Decommissioned            539   \n5                                             Retired           1868   \n6                                    Pending Approval             21   \n7                                               Draft             11   \n8                                                                      \n9                                    Line of Business           5324   \n10                                            Service            970   \n11                                           Software            990   \n12                                              BLANK              1   \n13                                                                     \n14                  Buy - Investment underway/planned           1551   \n15  Sell - Plan in place to eliminate (with dates ...            922   \n16        Buy - Achieved target state/operating model           1733   \n17  Sell - Plan in place to migrate (with dates & ...            534   \n18                                              BLANK           2195   \n19    Sell - no plan in place to migrate or eliminate            350   \n20                                                                     \n21                                              BLANK           4485   \n22                                                 No           2737   \n23                                                Yes             63   \n24                                                                     \n25                                              BLANK           4356   \n26                                         Restricted            702   \n27                                           Internal            848   \n28                                       Confidential           1193   \n29                                             Public            186   \n..                                                ...            ...   \n69                                                                     \n70                                              BLANK           3624   \n71                                           Moderate           1465   \n72                                      Insignificant            645   \n73                                              Major            862   \n74                                              Minor            273   \n75                                          Extensive            416   \n76                                                                     \n77                                              BLANK           3624   \n78                                          Extensive            693   \n79                                      Insignificant           1315   \n80                                              Minor            515   \n81                                           Moderate            577   \n82                                              Major            561   \n83                                                                     \n84                                              BLANK           3624   \n85                                              Minor           1209   \n86                                      Insignificant           1117   \n87                                           Moderate            785   \n88                                          Extensive            157   \n89                                              Major            393   \n90                                                                     \n91                                              BLANK           7285   \n92                                                                     \n93                                              BLANK           7285   \n94                                                                     \n95                                              BLANK           7285   \n96                                                                     \n97                                                Yes           3233   \n98                                                 No           4052   \n\n   Accounted For  \n0                 \n1            Yes  \n2            Yes  \n3            Yes  \n4            Yes  \n5            Yes  \n6            Yes  \n7            Yes  \n8                 \n9            Yes  \n10           Yes  \n11           Yes  \n12           Yes  \n13                \n14           Yes  \n15           Yes  \n16           Yes  \n17           Yes  \n18           Yes  \n19           Yes  \n20                \n21           Yes  \n22           Yes  \n23           Yes  \n24                \n25           Yes  \n26           Yes  \n27           Yes  \n28           Yes  \n29           Yes  \n..           ...  \n69                \n70           Yes  \n71           Yes  \n72           Yes  \n73           Yes  \n74           Yes  \n75           Yes  \n76                \n77           Yes  \n78           Yes  \n79           Yes  \n80           Yes  \n81           Yes  \n82           Yes  \n83                \n84           Yes  \n85           Yes  \n86           Yes  \n87           Yes  \n88           Yes  \n89           Yes  \n90                \n91           Yes  \n92                \n93           Yes  \n94                \n95           Yes  \n96                \n97           Yes  \n98           Yes  \n\n[99 rows x 4 columns]"
                    }, 
                    "output_type": "execute_result"
                }
            ], 
            "source": "quality_assurance = extract_data.reset_index(drop=True)\nquality_assurance"
        }, 
        {
            "source": "#### Export Dataframe to CSV file", 
            "cell_type": "markdown", 
            "metadata": {}
        }, 
        {
            "execution_count": 487, 
            "cell_type": "code", 
            "metadata": {}, 
            "outputs": [
                {
                    "execution_count": 487, 
                    "metadata": {}, 
                    "data": {
                        "text/html": "<a download=\"data.csv\" href=\"data:text/csv;base64,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\" target=\"_blank\">Download CSV file</a>", 
                        "text/plain": "<IPython.core.display.HTML object>"
                    }, 
                    "output_type": "execute_result"
                }
            ], 
            "source": "# Export Dataframe to CSV\nimport base64\nimport pandas as pd\nfrom IPython.display import HTML\n\ndef create_download_link( df, title = \"Download CSV file\", filename = \"data.csv\"):\n    csv = df.to_csv(index=False)\n    b64 = base64.b64encode(csv.encode())\n    payload = b64.decode()\n    html = '<a download=\"{filename}\" href=\"data:text/csv;base64,{payload}\" target=\"_blank\">{title}</a>'\n    html = html.format(payload=payload,title=title,filename=filename)\n    return HTML(html)\n\ndf = pd.DataFrame(data = [[1,2],[3,4]], columns=['Col 1', 'Col 2'])\ncreate_download_link(quality_assurance)"
        }, 
        {
            "execution_count": null, 
            "cell_type": "code", 
            "metadata": {}, 
            "outputs": [], 
            "source": ""
        }
    ], 
    "metadata": {
        "kernelspec": {
            "display_name": "Python 3.6", 
            "name": "python3", 
            "language": "python"
        }, 
        "language_info": {
            "mimetype": "text/x-python", 
            "nbconvert_exporter": "python", 
            "version": "3.6.8", 
            "name": "python", 
            "file_extension": ".py", 
            "pygments_lexer": "ipython3", 
            "codemirror_mode": {
                "version": 3, 
                "name": "ipython"
            }
        }
    }, 
    "nbformat": 4
}