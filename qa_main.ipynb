{
    "nbformat_minor": 1, 
    "cells": [
        {
            "execution_count": 331, 
            "cell_type": "code", 
            "metadata": {}, 
            "outputs": [], 
            "source": "# The code was removed by Watson Studio for sharing."
        }, 
        {
            "source": "# Quality Assurance Project", 
            "cell_type": "markdown", 
            "metadata": {}
        }, 
        {
            "source": "#### Import all tools required for this project", 
            "cell_type": "markdown", 
            "metadata": {}
        }, 
        {
            "execution_count": 332, 
            "cell_type": "code", 
            "metadata": {}, 
            "outputs": [], 
            "source": "import numpy as np\nimport types\nimport pandas as pd\nfrom botocore.client import Config\nimport ibm_boto3"
        }, 
        {
            "source": "#### Import Excel Sheet as a Dataframe", 
            "cell_type": "markdown", 
            "metadata": {}
        }, 
        {
            "execution_count": 333, 
            "cell_type": "code", 
            "metadata": {}, 
            "outputs": [], 
            "source": "# The code was removed by Watson Studio for sharing."
        }, 
        {
            "source": "#### Clean Dataframe", 
            "cell_type": "markdown", 
            "metadata": {}
        }, 
        {
            "source": "#### Extract column names from dataframe and clean for future use", 
            "cell_type": "markdown", 
            "metadata": {}
        }, 
        {
            "execution_count": 347, 
            "cell_type": "code", 
            "metadata": {}, 
            "outputs": [], 
            "source": "# Declare variables\ni = 0;\ncolumn_Names = [];\n\n# Clean column names so there are no more spaces\nqa_data.columns = qa_data.columns.str.replace(' ', '_')\n\n# Get column names and append in array, column_Names\nfor i in qa_data.columns:\n    column_Names.append(i)\n    \nfor c in column_Names:\n    qa_data[c].fillna(\"BLANK\", inplace = True)"
        }, 
        {
            "source": "#### Initialize empty dataframe for future use", 
            "cell_type": "markdown", 
            "metadata": {}
        }, 
        {
            "execution_count": 348, 
            "cell_type": "code", 
            "metadata": {}, 
            "outputs": [], 
            "source": "extract_data = pd.DataFrame(columns=['Attribute_Name', 'Variance', 'Variance_Count'])\ntemp_data = pd.DataFrame(columns=['Attribute_Name', 'Variance', 'Variance_Count'])"
        }, 
        {
            "execution_count": 362, 
            "cell_type": "code", 
            "metadata": {}, 
            "outputs": [], 
            "source": "# Loop through quality assurance process into new dataframe\ncolumn_Counter = 0\ninstance_clean = []\nstring = ''\n\n# Loop through the main dataframe and extract all relevant information for quality assurance validations\nfor columns in column_Names:\n    \n    unique = qa_data[column_Names[column_Counter]].unique()\n    instances = qa_data[column_Names[column_Counter]].value_counts(dropna=False)\n\n    #Only perform for attributes that don't have many variances\n    if len(unique) < 10:\n        \n        for variance in unique:\n            instance_clean.append(instances[variance])\n        \n        #Add data into temporary dataframe\n        temp_data = pd.DataFrame({\n        'Attribute_Name': columns,\n        'Variance': unique,\n        'Variance_Count': instance_clean\n        })\n        \n        #Add an empty column to visually differentiate between data columns\n        line = pd.DataFrame({\n        'Attribute_Name': [''],\n        'Variance': [''],\n        'Variance_Count': ['']\n        })\n\n        #Concatenate to main dataframe and reset any variables\n        extract_data = pd.concat([extract_data, temp_data])\n        extract_data = pd.concat([extract_data, line])\n        instance_clean = []\n\n    column_Counter += 1"
        }, 
        {
            "source": "### Final Output", 
            "cell_type": "markdown", 
            "metadata": {}
        }, 
        {
            "execution_count": 363, 
            "cell_type": "code", 
            "metadata": {
                "scrolled": true
            }, 
            "outputs": [], 
            "source": "quality_assurance = extract_data.reset_index(drop=True)"
        }, 
        {
            "execution_count": 370, 
            "cell_type": "code", 
            "metadata": {}, 
            "outputs": [
                {
                    "execution_count": 370, 
                    "metadata": {}, 
                    "data": {
                        "text/html": "<a download=\"data.csv\" href=\"data:text/csv;base64,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\" target=\"_blank\">Download CSV file</a>", 
                        "text/plain": "<IPython.core.display.HTML object>"
                    }, 
                    "output_type": "execute_result"
                }
            ], 
            "source": "import base64\nimport pandas as pd\nfrom IPython.display import HTML\n\ndef create_download_link( df, title = \"Download CSV file\", filename = \"data.csv\"):\n    csv = df.to_csv()\n    b64 = base64.b64encode(csv.encode())\n    payload = b64.decode()\n    html = '<a download=\"{filename}\" href=\"data:text/csv;base64,{payload}\" target=\"_blank\">{title}</a>'\n    html = html.format(payload=payload,title=title,filename=filename)\n    return HTML(html)\n\ndf = pd.DataFrame(data = [[1,2],[3,4]], columns=['Col 1', 'Col 2'])\ncreate_download_link(quality_assurance)"
        }, 
        {
            "execution_count": null, 
            "cell_type": "code", 
            "metadata": {}, 
            "outputs": [], 
            "source": ""
        }
    ], 
    "metadata": {
        "kernelspec": {
            "display_name": "Python 3.6", 
            "name": "python3", 
            "language": "python"
        }, 
        "language_info": {
            "mimetype": "text/x-python", 
            "nbconvert_exporter": "python", 
            "version": "3.6.8", 
            "name": "python", 
            "file_extension": ".py", 
            "pygments_lexer": "ipython3", 
            "codemirror_mode": {
                "version": 3, 
                "name": "ipython"
            }
        }
    }, 
    "nbformat": 4
}